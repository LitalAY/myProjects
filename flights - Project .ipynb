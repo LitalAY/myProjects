{
 "cells": [
  {
   "cell_type": "markdown",
   "metadata": {},
   "source": [
    "# Lab - working with online data "
   ]
  },
  {
   "cell_type": "markdown",
   "metadata": {},
   "source": [
    "In this Lab , you will load , clean and store online flights data"
   ]
  },
  {
   "cell_type": "code",
   "execution_count": 1,
   "metadata": {},
   "outputs": [],
   "source": [
    "import pandas as pd\n",
    "import numpy as np\n",
    "import matplotlib.pyplot as plt\n",
    "import seaborn as sb\n",
    "import datetime\n",
    "%matplotlib inline"
   ]
  },
  {
   "cell_type": "code",
   "execution_count": 2,
   "metadata": {},
   "outputs": [],
   "source": [
    "import requests\n",
    "import json\n"
   ]
  },
  {
   "cell_type": "markdown",
   "metadata": {},
   "source": [
    "# Load the data"
   ]
  },
  {
   "cell_type": "code",
   "execution_count": 3,
   "metadata": {},
   "outputs": [],
   "source": [
    "r = requests.get(\"https://data.gov.il/api/3/action/datastore_search?resource_id=e83f763b-b7d7-479e-b172-ae981ddc6de5&limit=5000\")"
   ]
  },
  {
   "cell_type": "code",
   "execution_count": 4,
   "metadata": {},
   "outputs": [],
   "source": [
    "res = json.loads(r.content)"
   ]
  },
  {
   "cell_type": "code",
   "execution_count": 5,
   "metadata": {},
   "outputs": [],
   "source": [
    "df = pd.DataFrame(res['result']['records'])"
   ]
  },
  {
   "cell_type": "markdown",
   "metadata": {},
   "source": [
    "## display the first rows "
   ]
  },
  {
   "cell_type": "code",
   "execution_count": 6,
   "metadata": {},
   "outputs": [
    {
     "data": {
      "text/html": [
       "<div>\n",
       "<style scoped>\n",
       "    .dataframe tbody tr th:only-of-type {\n",
       "        vertical-align: middle;\n",
       "    }\n",
       "\n",
       "    .dataframe tbody tr th {\n",
       "        vertical-align: top;\n",
       "    }\n",
       "\n",
       "    .dataframe thead th {\n",
       "        text-align: right;\n",
       "    }\n",
       "</style>\n",
       "<table border=\"1\" class=\"dataframe\">\n",
       "  <thead>\n",
       "    <tr style=\"text-align: right;\">\n",
       "      <th></th>\n",
       "      <th>_id</th>\n",
       "      <th>CHOPER</th>\n",
       "      <th>CHFLTN</th>\n",
       "      <th>CHOPERD</th>\n",
       "      <th>CHSTOL</th>\n",
       "      <th>CHPTOL</th>\n",
       "      <th>CHAORD</th>\n",
       "      <th>CHLOC1</th>\n",
       "      <th>CHLOC1D</th>\n",
       "      <th>CHLOC1TH</th>\n",
       "      <th>CHLOC1T</th>\n",
       "      <th>CHLOC1CH</th>\n",
       "      <th>CHLOCCT</th>\n",
       "      <th>CHTERM</th>\n",
       "      <th>CHCINT</th>\n",
       "      <th>CHCKZN</th>\n",
       "      <th>CHRMINE</th>\n",
       "      <th>CHRMINH</th>\n",
       "    </tr>\n",
       "  </thead>\n",
       "  <tbody>\n",
       "    <tr>\n",
       "      <th>0</th>\n",
       "      <td>1</td>\n",
       "      <td>IZ</td>\n",
       "      <td>829</td>\n",
       "      <td>ARKIA  ISRAELI  AIRLINES</td>\n",
       "      <td>2024-03-02T18:30:00</td>\n",
       "      <td>2024-03-02T18:34:00</td>\n",
       "      <td>D</td>\n",
       "      <td>ETM</td>\n",
       "      <td>RAMON</td>\n",
       "      <td>אילת - רמון</td>\n",
       "      <td>RAMON</td>\n",
       "      <td>ישראל</td>\n",
       "      <td>ISRAEL</td>\n",
       "      <td>3</td>\n",
       "      <td>G12-G18</td>\n",
       "      <td>G</td>\n",
       "      <td>DEPARTED</td>\n",
       "      <td>המריאה</td>\n",
       "    </tr>\n",
       "    <tr>\n",
       "      <th>1</th>\n",
       "      <td>2</td>\n",
       "      <td>LX</td>\n",
       "      <td>253</td>\n",
       "      <td>SWISS INT`L  AIRLINES</td>\n",
       "      <td>2024-03-02T18:20:00</td>\n",
       "      <td>2024-03-02T18:42:00</td>\n",
       "      <td>D</td>\n",
       "      <td>ZRH</td>\n",
       "      <td>ZURICH</td>\n",
       "      <td>ציריך</td>\n",
       "      <td>ZURICH</td>\n",
       "      <td>שוויץ</td>\n",
       "      <td>SWITZERLAND</td>\n",
       "      <td>3</td>\n",
       "      <td>26-33</td>\n",
       "      <td>A</td>\n",
       "      <td>DEPARTED</td>\n",
       "      <td>המריאה</td>\n",
       "    </tr>\n",
       "    <tr>\n",
       "      <th>2</th>\n",
       "      <td>3</td>\n",
       "      <td>IZ</td>\n",
       "      <td>1844</td>\n",
       "      <td>ARKIA  ISRAELI  AIRLINES</td>\n",
       "      <td>2024-03-02T19:15:00</td>\n",
       "      <td>2024-03-02T19:26:00</td>\n",
       "      <td>A</td>\n",
       "      <td>ETM</td>\n",
       "      <td>RAMON</td>\n",
       "      <td>אילת - רמון</td>\n",
       "      <td>RAMON</td>\n",
       "      <td>ישראל</td>\n",
       "      <td>ISRAEL</td>\n",
       "      <td>3</td>\n",
       "      <td>None</td>\n",
       "      <td>None</td>\n",
       "      <td>LANDED</td>\n",
       "      <td>נחתה</td>\n",
       "    </tr>\n",
       "    <tr>\n",
       "      <th>3</th>\n",
       "      <td>4</td>\n",
       "      <td>IZ</td>\n",
       "      <td>604</td>\n",
       "      <td>ARKIA  ISRAELI  AIRLINES</td>\n",
       "      <td>2024-03-02T18:40:00</td>\n",
       "      <td>2024-03-02T19:31:00</td>\n",
       "      <td>A</td>\n",
       "      <td>DXB</td>\n",
       "      <td>DUBAI</td>\n",
       "      <td>דובאי</td>\n",
       "      <td>DUBAI</td>\n",
       "      <td>איחוד האמירויות הערב</td>\n",
       "      <td>UNITED ARAB EMIRATES</td>\n",
       "      <td>3</td>\n",
       "      <td>None</td>\n",
       "      <td>None</td>\n",
       "      <td>LANDED</td>\n",
       "      <td>נחתה</td>\n",
       "    </tr>\n",
       "    <tr>\n",
       "      <th>4</th>\n",
       "      <td>5</td>\n",
       "      <td>U8</td>\n",
       "      <td>108</td>\n",
       "      <td>TUS AIRWAYS</td>\n",
       "      <td>2024-03-02T20:00:00</td>\n",
       "      <td>2024-03-02T19:51:00</td>\n",
       "      <td>A</td>\n",
       "      <td>LCA</td>\n",
       "      <td>LARNACA</td>\n",
       "      <td>לרנקה</td>\n",
       "      <td>LARNACA</td>\n",
       "      <td>קפריסין</td>\n",
       "      <td>CYPRUS</td>\n",
       "      <td>3</td>\n",
       "      <td>None</td>\n",
       "      <td>None</td>\n",
       "      <td>LANDED</td>\n",
       "      <td>נחתה</td>\n",
       "    </tr>\n",
       "    <tr>\n",
       "      <th>5</th>\n",
       "      <td>6</td>\n",
       "      <td>W9</td>\n",
       "      <td>4451</td>\n",
       "      <td>WIZZ UK</td>\n",
       "      <td>2024-03-02T21:05:00</td>\n",
       "      <td>2024-03-02T20:38:00</td>\n",
       "      <td>A</td>\n",
       "      <td>LTN</td>\n",
       "      <td>LUTON</td>\n",
       "      <td>לונדון לוטון</td>\n",
       "      <td>LONDON LUTON</td>\n",
       "      <td>בריטניה</td>\n",
       "      <td>UNITED KINGDOM</td>\n",
       "      <td>3</td>\n",
       "      <td>None</td>\n",
       "      <td>None</td>\n",
       "      <td>LANDED</td>\n",
       "      <td>נחתה</td>\n",
       "    </tr>\n",
       "    <tr>\n",
       "      <th>6</th>\n",
       "      <td>7</td>\n",
       "      <td>BZ</td>\n",
       "      <td>701</td>\n",
       "      <td>BLUE BIRD AIRWAYS</td>\n",
       "      <td>2024-03-02T15:35:00</td>\n",
       "      <td>2024-03-02T20:41:00</td>\n",
       "      <td>A</td>\n",
       "      <td>ATH</td>\n",
       "      <td>ATHENS</td>\n",
       "      <td>אתונה</td>\n",
       "      <td>ATHENS</td>\n",
       "      <td>יוון</td>\n",
       "      <td>GREECE</td>\n",
       "      <td>3</td>\n",
       "      <td>None</td>\n",
       "      <td>None</td>\n",
       "      <td>LANDED</td>\n",
       "      <td>נחתה</td>\n",
       "    </tr>\n",
       "    <tr>\n",
       "      <th>7</th>\n",
       "      <td>8</td>\n",
       "      <td>IZ</td>\n",
       "      <td>820</td>\n",
       "      <td>ARKIA  ISRAELI  AIRLINES</td>\n",
       "      <td>2024-03-02T21:05:00</td>\n",
       "      <td>2024-03-02T21:01:00</td>\n",
       "      <td>A</td>\n",
       "      <td>ETM</td>\n",
       "      <td>RAMON</td>\n",
       "      <td>אילת - רמון</td>\n",
       "      <td>RAMON</td>\n",
       "      <td>ישראל</td>\n",
       "      <td>ISRAEL</td>\n",
       "      <td>3</td>\n",
       "      <td>None</td>\n",
       "      <td>None</td>\n",
       "      <td>LANDED</td>\n",
       "      <td>נחתה</td>\n",
       "    </tr>\n",
       "    <tr>\n",
       "      <th>8</th>\n",
       "      <td>9</td>\n",
       "      <td>IZ</td>\n",
       "      <td>1845</td>\n",
       "      <td>ARKIA  ISRAELI  AIRLINES</td>\n",
       "      <td>2024-03-02T20:10:00</td>\n",
       "      <td>2024-03-02T21:06:00</td>\n",
       "      <td>D</td>\n",
       "      <td>ETM</td>\n",
       "      <td>RAMON</td>\n",
       "      <td>אילת - רמון</td>\n",
       "      <td>RAMON</td>\n",
       "      <td>ישראל</td>\n",
       "      <td>ISRAEL</td>\n",
       "      <td>3</td>\n",
       "      <td>G12-G18</td>\n",
       "      <td>G</td>\n",
       "      <td>DEPARTED</td>\n",
       "      <td>המריאה</td>\n",
       "    </tr>\n",
       "    <tr>\n",
       "      <th>9</th>\n",
       "      <td>10</td>\n",
       "      <td>U8</td>\n",
       "      <td>109</td>\n",
       "      <td>TUS AIRWAYS</td>\n",
       "      <td>2024-03-02T21:00:00</td>\n",
       "      <td>2024-03-02T21:12:00</td>\n",
       "      <td>D</td>\n",
       "      <td>LCA</td>\n",
       "      <td>LARNACA</td>\n",
       "      <td>לרנקה</td>\n",
       "      <td>LARNACA</td>\n",
       "      <td>קפריסין</td>\n",
       "      <td>CYPRUS</td>\n",
       "      <td>3</td>\n",
       "      <td>60-63</td>\n",
       "      <td>C</td>\n",
       "      <td>DEPARTED</td>\n",
       "      <td>המריאה</td>\n",
       "    </tr>\n",
       "  </tbody>\n",
       "</table>\n",
       "</div>"
      ],
      "text/plain": [
       "   _id CHOPER CHFLTN                   CHOPERD               CHSTOL  \\\n",
       "0    1     IZ    829  ARKIA  ISRAELI  AIRLINES  2024-03-02T18:30:00   \n",
       "1    2     LX    253     SWISS INT`L  AIRLINES  2024-03-02T18:20:00   \n",
       "2    3     IZ   1844  ARKIA  ISRAELI  AIRLINES  2024-03-02T19:15:00   \n",
       "3    4     IZ    604  ARKIA  ISRAELI  AIRLINES  2024-03-02T18:40:00   \n",
       "4    5     U8    108               TUS AIRWAYS  2024-03-02T20:00:00   \n",
       "5    6     W9   4451                   WIZZ UK  2024-03-02T21:05:00   \n",
       "6    7     BZ    701         BLUE BIRD AIRWAYS  2024-03-02T15:35:00   \n",
       "7    8     IZ    820  ARKIA  ISRAELI  AIRLINES  2024-03-02T21:05:00   \n",
       "8    9     IZ   1845  ARKIA  ISRAELI  AIRLINES  2024-03-02T20:10:00   \n",
       "9   10     U8    109               TUS AIRWAYS  2024-03-02T21:00:00   \n",
       "\n",
       "                CHPTOL CHAORD CHLOC1  CHLOC1D      CHLOC1TH       CHLOC1T  \\\n",
       "0  2024-03-02T18:34:00      D    ETM    RAMON   אילת - רמון         RAMON   \n",
       "1  2024-03-02T18:42:00      D    ZRH   ZURICH         ציריך        ZURICH   \n",
       "2  2024-03-02T19:26:00      A    ETM    RAMON   אילת - רמון         RAMON   \n",
       "3  2024-03-02T19:31:00      A    DXB    DUBAI         דובאי         DUBAI   \n",
       "4  2024-03-02T19:51:00      A    LCA  LARNACA         לרנקה       LARNACA   \n",
       "5  2024-03-02T20:38:00      A    LTN    LUTON  לונדון לוטון  LONDON LUTON   \n",
       "6  2024-03-02T20:41:00      A    ATH   ATHENS         אתונה        ATHENS   \n",
       "7  2024-03-02T21:01:00      A    ETM    RAMON   אילת - רמון         RAMON   \n",
       "8  2024-03-02T21:06:00      D    ETM    RAMON   אילת - רמון         RAMON   \n",
       "9  2024-03-02T21:12:00      D    LCA  LARNACA         לרנקה       LARNACA   \n",
       "\n",
       "               CHLOC1CH               CHLOCCT  CHTERM   CHCINT CHCKZN  \\\n",
       "0                 ישראל                ISRAEL       3  G12-G18      G   \n",
       "1                 שוויץ           SWITZERLAND       3    26-33      A   \n",
       "2                 ישראל                ISRAEL       3     None   None   \n",
       "3  איחוד האמירויות הערב  UNITED ARAB EMIRATES       3     None   None   \n",
       "4               קפריסין                CYPRUS       3     None   None   \n",
       "5               בריטניה        UNITED KINGDOM       3     None   None   \n",
       "6                  יוון                GREECE       3     None   None   \n",
       "7                 ישראל                ISRAEL       3     None   None   \n",
       "8                 ישראל                ISRAEL       3  G12-G18      G   \n",
       "9               קפריסין                CYPRUS       3    60-63      C   \n",
       "\n",
       "    CHRMINE CHRMINH  \n",
       "0  DEPARTED  המריאה  \n",
       "1  DEPARTED  המריאה  \n",
       "2    LANDED    נחתה  \n",
       "3    LANDED    נחתה  \n",
       "4    LANDED    נחתה  \n",
       "5    LANDED    נחתה  \n",
       "6    LANDED    נחתה  \n",
       "7    LANDED    נחתה  \n",
       "8  DEPARTED  המריאה  \n",
       "9  DEPARTED  המריאה  "
      ]
     },
     "execution_count": 6,
     "metadata": {},
     "output_type": "execute_result"
    }
   ],
   "source": [
    "#first 10 rows:\n",
    "df.head(10)"
   ]
  },
  {
   "cell_type": "markdown",
   "metadata": {},
   "source": [
    "### display the last 10 rows - What's wrong? "
   ]
  },
  {
   "cell_type": "code",
   "execution_count": null,
   "metadata": {},
   "outputs": [],
   "source": [
    "df.tail(10)\n",
    "# part of data doesn't exist! \"None\""
   ]
  },
  {
   "cell_type": "markdown",
   "metadata": {},
   "source": [
    "# clean the data"
   ]
  },
  {
   "cell_type": "markdown",
   "metadata": {},
   "source": [
    "how many rows contains empty strings for each Column? (use a for loop to display the column name and percentage)"
   ]
  },
  {
   "cell_type": "code",
   "execution_count": null,
   "metadata": {},
   "outputs": [],
   "source": [
    "df=df.drop(columns=['CHCINT','CHCKZN']) \n",
    "df "
   ]
  },
  {
   "cell_type": "code",
   "execution_count": null,
   "metadata": {},
   "outputs": [],
   "source": [
    "rowsNo=df.shape[0]\n",
    "for i in range (len(df.columns)):\n",
    "    NotNull=df[df.columns[i]].count() #count-without nulls\n",
    "    print(df.columns[i],': ',round((rowsNo-NotNull)/rowsNo*100,2),'%')"
   ]
  },
  {
   "cell_type": "markdown",
   "metadata": {},
   "source": [
    "drop the empty rows  "
   ]
  },
  {
   "cell_type": "code",
   "execution_count": null,
   "metadata": {},
   "outputs": [],
   "source": [
    "\n",
    "for i in range (len(df.columns)):\n",
    "    df.dropna(subset=[df.columns[i]], inplace=True)\n",
    "\n",
    "'''check:\n",
    "rowsNo=df.shape[0]\n",
    "for i in range (len(df.columns)):\n",
    "    NotNull=df[df.columns[i]].count() #count-without nulls\n",
    "    print(df.columns[i],': ',round((rowsNo-NotNull)/rowsNo*100,2),'%')\n",
    "=> percent of null=0 for each column\n",
    "'''\n",
    "df\n"
   ]
  },
  {
   "cell_type": "markdown",
   "metadata": {},
   "source": [
    "format the current date with underscore separation (%d_%m_%y)"
   ]
  },
  {
   "cell_type": "code",
   "execution_count": null,
   "metadata": {},
   "outputs": [],
   "source": [
    "# pd.to_datime('date',format='%d_%m_%Y')=> not work on df\n",
    "# df['CHSTOL']=df['CHSTOL'].str[8:10]+'_'+df['CHSTOL'].str[5:7]+'_'+df['CHSTOL'].str[:4]\n",
    "import datetime as dt\n",
    "d=str(dt.datetime.now())\n",
    "currentDate=d[8:10]+'_'+d[5:7]+'_'+d[:4]\n",
    "currentDate"
   ]
  },
  {
   "cell_type": "markdown",
   "metadata": {},
   "source": [
    "Drop the _id column "
   ]
  },
  {
   "cell_type": "code",
   "execution_count": null,
   "metadata": {},
   "outputs": [],
   "source": [
    "df=df.drop(columns='_id') \n",
    "df "
   ]
  },
  {
   "cell_type": "markdown",
   "metadata": {},
   "source": [
    "save the raw data (add the current date to the file name) "
   ]
  },
  {
   "cell_type": "code",
   "execution_count": null,
   "metadata": {},
   "outputs": [],
   "source": [
    "import os\n",
    "os.chdir('C:\\jupyterFiles\\Python Project')\n",
    "with open('cleandata-'+currentDate+'.csv','x') as f:\n",
    "    df.to_csv(f)"
   ]
  },
  {
   "cell_type": "markdown",
   "metadata": {},
   "source": [
    "select the airline code and name without duplicates (CHOPER,CHOPERD)"
   ]
  },
  {
   "cell_type": "code",
   "execution_count": null,
   "metadata": {},
   "outputs": [],
   "source": [
    "airline_update=df[['CHOPER','CHOPERD']].drop_duplicates()\n",
    "airline_update.shape"
   ]
  },
  {
   "cell_type": "markdown",
   "metadata": {},
   "source": [
    "Load the file airlines.csv and merge it with a new data and save the file 'airline.csv'"
   ]
  },
  {
   "cell_type": "code",
   "execution_count": null,
   "metadata": {},
   "outputs": [],
   "source": [
    "airline_update\n",
    "#SK for example doesn't exist in airlines.csv"
   ]
  },
  {
   "cell_type": "code",
   "execution_count": null,
   "metadata": {},
   "outputs": [],
   "source": [
    "airlines=pd.read_csv('airlines.csv')\n",
    "airlines"
   ]
  },
  {
   "cell_type": "code",
   "execution_count": null,
   "metadata": {},
   "outputs": [],
   "source": [
    "update_1=pd.concat([airlines,airline_update],ignore_index=True).drop_duplicates()\n",
    "update_1.to_csv('C:\\\\jupyterFiles\\\\Python Project\\\\airlines.csv')"
   ]
  },
  {
   "cell_type": "markdown",
   "metadata": {},
   "source": [
    "Drop the Airline name column "
   ]
  },
  {
   "cell_type": "code",
   "execution_count": null,
   "metadata": {},
   "outputs": [],
   "source": [
    "df=df.drop(columns='CHOPERD') \n",
    "df "
   ]
  },
  {
   "cell_type": "markdown",
   "metadata": {},
   "source": [
    "Do the same task with airports (CHLOC1,CHLOC1D) and save the file 'airports.csv'"
   ]
  },
  {
   "cell_type": "code",
   "execution_count": null,
   "metadata": {},
   "outputs": [],
   "source": [
    "airport_update=df[['CHLOC1','CHLOC1D']].drop_duplicates()\n",
    "airport_update.shape"
   ]
  },
  {
   "cell_type": "code",
   "execution_count": null,
   "metadata": {},
   "outputs": [],
   "source": [
    "airport_update\n",
    "#AER for example doesn't exist in airports.csv"
   ]
  },
  {
   "cell_type": "code",
   "execution_count": null,
   "metadata": {},
   "outputs": [],
   "source": [
    "airports=pd.read_csv('airports.csv')\n",
    "airports"
   ]
  },
  {
   "cell_type": "code",
   "execution_count": null,
   "metadata": {},
   "outputs": [],
   "source": [
    "update_2=pd.concat([airports,airport_update],ignore_index=True).drop_duplicates()\n",
    "update_2.to_csv('C:\\\\jupyterFiles\\\\Python Project\\\\airports.csv')"
   ]
  },
  {
   "cell_type": "code",
   "execution_count": null,
   "metadata": {},
   "outputs": [],
   "source": [
    "df=df.drop(columns='CHLOC1D') \n",
    "df "
   ]
  },
  {
   "cell_type": "markdown",
   "metadata": {},
   "source": [
    "drop the hebrew columns 'CHLOC1TH','CHLOC1CH','CHRMINH'"
   ]
  },
  {
   "cell_type": "code",
   "execution_count": null,
   "metadata": {},
   "outputs": [],
   "source": [
    "df=df.drop(columns=['CHLOC1TH','CHLOC1CH','CHRMINH']) \n",
    "df "
   ]
  },
  {
   "cell_type": "markdown",
   "metadata": {},
   "source": [
    "### rename the columns "
   ]
  },
  {
   "cell_type": "code",
   "execution_count": null,
   "metadata": {},
   "outputs": [],
   "source": [
    "df2=df.rename(columns={'CHOPER':'Airline','CHFLTN':'FlightNum','CHSTOL':'PlanTime','CHPTOL':'ActualTime','CHAORD':'Direction','CHLOC1':'Airport','CHLOC1T':'City','CHLOCCT':'Country','CHTERM':'Terminal','CHRMINE':'Status'})\n",
    "df2"
   ]
  },
  {
   "cell_type": "markdown",
   "metadata": {},
   "source": [
    "Change the PlanTime and ActualTime columns type to np.datetime64"
   ]
  },
  {
   "cell_type": "code",
   "execution_count": null,
   "metadata": {},
   "outputs": [],
   "source": [
    "df2[['PlanTime','ActualTime']]=df2[['PlanTime','ActualTime']].astype('datetime64[ms]')\n",
    "df2"
   ]
  },
  {
   "cell_type": "markdown",
   "metadata": {},
   "source": [
    "Save the clean data "
   ]
  },
  {
   "cell_type": "code",
   "execution_count": null,
   "metadata": {},
   "outputs": [],
   "source": [
    "df2.to_csv('C:\\\\jupyterFiles\\\\Python Project\\\\cleandata-'+currentDate+'.csv')"
   ]
  },
  {
   "cell_type": "markdown",
   "metadata": {},
   "source": [
    "update the file final.csv with departed, landed and canceled flights only"
   ]
  },
  {
   "cell_type": "code",
   "execution_count": null,
   "metadata": {},
   "outputs": [],
   "source": [
    "df2=df2[(df2['Status']=='DEPARTED') | (df2['Status']=='LANDED') |(df2['Status']=='CANCELED')]"
   ]
  },
  {
   "cell_type": "code",
   "execution_count": null,
   "metadata": {},
   "outputs": [],
   "source": [
    "final=pd.read_csv('final.csv')\n",
    "(pd.concat([final,df2],ignore_index=True)).to_csv('C:\\\\jupyterFiles\\\\Python Project\\\\final.csv')\n"
   ]
  },
  {
   "cell_type": "markdown",
   "metadata": {},
   "source": [
    "Add a new column for total delay in minutes"
   ]
  },
  {
   "cell_type": "code",
   "execution_count": null,
   "metadata": {},
   "outputs": [],
   "source": [
    "final=pd.read_csv('final.csv')\n",
    "final['PlanTime'] = pd.to_datetime(final['PlanTime'])\n",
    "final['ActualTime'] = pd.to_datetime(final['ActualTime'])\n",
    "\n",
    "# Calculate the difference between the actual arrival time and the planned departure time\n",
    "diff = (final['ActualTime'] - final['PlanTime']).dt.total_seconds() / 60  # Difference in minutes\n",
    "\n",
    "# Show the updated DataFrame\n",
    "final.insert(5,'TimeDifference',diff)\n",
    "final\n",
    "\n",
    "\n"
   ]
  },
  {
   "cell_type": "code",
   "execution_count": null,
   "metadata": {},
   "outputs": [],
   "source": [
    "final.to_csv('C:\\\\jupyterFiles\\\\Python Project\\\\final.csv')"
   ]
  },
  {
   "cell_type": "markdown",
   "metadata": {},
   "source": [
    "What is the average delay for departed flights"
   ]
  },
  {
   "cell_type": "code",
   "execution_count": null,
   "metadata": {},
   "outputs": [],
   "source": [
    "AvgDelayDeparted=round(final[final['Status']=='DEPARTED'].TimeDifference.mean(),1)\n",
    "print('The average delay for departed flights:',AvgDelayDeparted,'minutes')"
   ]
  },
  {
   "cell_type": "markdown",
   "metadata": {},
   "source": [
    "Display total delay distribution "
   ]
  },
  {
   "cell_type": "code",
   "execution_count": null,
   "metadata": {},
   "outputs": [],
   "source": [
    "final['TimeDifference'].plot().set(title=\"Total Delay Distribution\")\n",
    "plt.show()"
   ]
  },
  {
   "cell_type": "code",
   "execution_count": null,
   "metadata": {},
   "outputs": [],
   "source": [
    "# Total delay by Stutus:\n",
    "plt.figure(figsize=(12,6) ,dpi=75)\n",
    "plt.style.use('fivethirtyeight')\n",
    "plt.title('Total Delay by Stutus' , fontsize = 18 , color = 'r')\n",
    "final.groupby('Status')['TimeDifference'].sum().sort_values(ascending=False).plot(kind='bar')\n",
    "plt.xlabel('Status',color='blue')\n",
    "plt.xticks(rotation=0)\n",
    "plt.ylabel('Total Delay' , rotation=0 , loc = 'top',color='blue')\n",
    "plt.yticks([-1000,0,1000,2000,3000,4000,5000],labels= ['-1000min','0 min' , '1000 min' , '2000min' ,'3000min' , '4000min' , '5000min'])\n",
    "plt.show()\n"
   ]
  },
  {
   "cell_type": "code",
   "execution_count": null,
   "metadata": {},
   "outputs": [],
   "source": [
    "x=final.groupby(final['Airport']).TimeDifference.sum().sort_values().head(5)\n",
    "y=final.groupby(final['Airport']).TimeDifference.sum().sort_values().head(5)\n",
    "plt.show()\n",
    "#most airports delay and most in time\n"
   ]
  },
  {
   "cell_type": "code",
   "execution_count": null,
   "metadata": {},
   "outputs": [],
   "source": []
  },
  {
   "cell_type": "code",
   "execution_count": null,
   "metadata": {},
   "outputs": [],
   "source": []
  }
 ],
 "metadata": {
  "kernelspec": {
   "display_name": "Python 3 (ipykernel)",
   "language": "python",
   "name": "python3"
  },
  "language_info": {
   "codemirror_mode": {
    "name": "ipython",
    "version": 3
   },
   "file_extension": ".py",
   "mimetype": "text/x-python",
   "name": "python",
   "nbconvert_exporter": "python",
   "pygments_lexer": "ipython3",
   "version": "3.11.6"
  }
 },
 "nbformat": 4,
 "nbformat_minor": 4
}
